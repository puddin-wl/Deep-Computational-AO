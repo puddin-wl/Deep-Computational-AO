{
 "cells": [
  {
   "cell_type": "code",
   "execution_count": 1,
   "metadata": {
    "ExecuteTime": {
     "end_time": "2025-04-22T12:31:36.007081Z",
     "start_time": "2025-04-22T12:31:34.038301Z"
    }
   },
   "outputs": [
    {
     "ename": "KeyboardInterrupt",
     "evalue": "",
     "output_type": "error",
     "traceback": [
      "\u001b[1;31m---------------------------------------------------------------------------\u001b[0m",
      "\u001b[1;31mKeyboardInterrupt\u001b[0m                         Traceback (most recent call last)",
      "Cell \u001b[1;32mIn[1], line 6\u001b[0m\n\u001b[0;32m      4\u001b[0m os\u001b[38;5;241m.\u001b[39menviron[\u001b[38;5;124m'\u001b[39m\u001b[38;5;124mCUDA_VISIBLE_DEVICES\u001b[39m\u001b[38;5;124m'\u001b[39m] \u001b[38;5;241m=\u001b[39m \u001b[38;5;124m'\u001b[39m\u001b[38;5;124m0\u001b[39m\u001b[38;5;124m'\u001b[39m\n\u001b[0;32m      5\u001b[0m \u001b[38;5;28;01mimport\u001b[39;00m\u001b[38;5;250m \u001b[39m\u001b[38;5;21;01mnumpy\u001b[39;00m\u001b[38;5;250m \u001b[39m\u001b[38;5;28;01mas\u001b[39;00m\u001b[38;5;250m \u001b[39m\u001b[38;5;21;01mnp\u001b[39;00m\n\u001b[1;32m----> 6\u001b[0m \u001b[38;5;28;01mfrom\u001b[39;00m\u001b[38;5;250m \u001b[39m\u001b[38;5;21;01mmodels\u001b[39;00m\u001b[38;5;250m \u001b[39m\u001b[38;5;28;01mimport\u001b[39;00m \u001b[38;5;241m*\u001b[39m\n\u001b[0;32m      7\u001b[0m \u001b[38;5;28;01mimport\u001b[39;00m\u001b[38;5;250m \u001b[39m\u001b[38;5;21;01mtorch\u001b[39;00m\n\u001b[0;32m      8\u001b[0m \u001b[38;5;28;01mimport\u001b[39;00m\u001b[38;5;250m \u001b[39m\u001b[38;5;21;01mtorch\u001b[39;00m\u001b[38;5;21;01m.\u001b[39;00m\u001b[38;5;21;01moptim\u001b[39;00m\n",
      "File \u001b[1;32me:\\DIP\\models\\__init__.py:1\u001b[0m\n\u001b[1;32m----> 1\u001b[0m \u001b[38;5;28;01mfrom\u001b[39;00m\u001b[38;5;250m \u001b[39m\u001b[38;5;21;01m.\u001b[39;00m\u001b[38;5;21;01mskip\u001b[39;00m\u001b[38;5;250m \u001b[39m\u001b[38;5;28;01mimport\u001b[39;00m skip\n\u001b[0;32m      2\u001b[0m \u001b[38;5;28;01mfrom\u001b[39;00m\u001b[38;5;250m \u001b[39m\u001b[38;5;21;01m.\u001b[39;00m\u001b[38;5;21;01mresnet\u001b[39;00m\u001b[38;5;250m \u001b[39m\u001b[38;5;28;01mimport\u001b[39;00m ResNet\n\u001b[0;32m      3\u001b[0m \u001b[38;5;28;01mfrom\u001b[39;00m\u001b[38;5;250m \u001b[39m\u001b[38;5;21;01m.\u001b[39;00m\u001b[38;5;21;01munet_model\u001b[39;00m\u001b[38;5;250m \u001b[39m\u001b[38;5;28;01mimport\u001b[39;00m UNet\n",
      "File \u001b[1;32me:\\DIP\\models\\skip.py:1\u001b[0m\n\u001b[1;32m----> 1\u001b[0m \u001b[38;5;28;01mimport\u001b[39;00m\u001b[38;5;250m \u001b[39m\u001b[38;5;21;01mtorch\u001b[39;00m\n\u001b[0;32m      2\u001b[0m \u001b[38;5;28;01mimport\u001b[39;00m\u001b[38;5;250m \u001b[39m\u001b[38;5;21;01mtorch\u001b[39;00m\u001b[38;5;21;01m.\u001b[39;00m\u001b[38;5;21;01mnn\u001b[39;00m\u001b[38;5;250m \u001b[39m\u001b[38;5;28;01mas\u001b[39;00m\u001b[38;5;250m \u001b[39m\u001b[38;5;21;01mnn\u001b[39;00m\n\u001b[0;32m      3\u001b[0m \u001b[38;5;28;01mfrom\u001b[39;00m\u001b[38;5;250m \u001b[39m\u001b[38;5;21;01m.\u001b[39;00m\u001b[38;5;21;01mcommon\u001b[39;00m\u001b[38;5;250m \u001b[39m\u001b[38;5;28;01mimport\u001b[39;00m \u001b[38;5;241m*\u001b[39m\n",
      "File \u001b[1;32md:\\anaconda\\envs\\dip\\lib\\site-packages\\torch\\__init__.py:75\u001b[0m\n\u001b[0;32m     72\u001b[0m \u001b[38;5;28;01melse\u001b[39;00m:\n\u001b[0;32m     73\u001b[0m     \u001b[38;5;28;01mfrom\u001b[39;00m\u001b[38;5;250m \u001b[39m\u001b[38;5;21;01mtyping_extensions\u001b[39;00m\u001b[38;5;250m \u001b[39m\u001b[38;5;28;01mimport\u001b[39;00m TypeIs \u001b[38;5;28;01mas\u001b[39;00m _TypeIs\n\u001b[1;32m---> 75\u001b[0m     \u001b[38;5;28;01mfrom\u001b[39;00m\u001b[38;5;250m \u001b[39m\u001b[38;5;21;01mtorch\u001b[39;00m\u001b[38;5;21;01m.\u001b[39;00m\u001b[38;5;21;01mtorch_version\u001b[39;00m\u001b[38;5;250m \u001b[39m\u001b[38;5;28;01mimport\u001b[39;00m __version__ \u001b[38;5;28;01mas\u001b[39;00m __version__\n\u001b[0;32m     77\u001b[0m __all__ \u001b[38;5;241m=\u001b[39m [\n\u001b[0;32m     78\u001b[0m     \u001b[38;5;124m\"\u001b[39m\u001b[38;5;124mBoolStorage\u001b[39m\u001b[38;5;124m\"\u001b[39m,\n\u001b[0;32m     79\u001b[0m     \u001b[38;5;124m\"\u001b[39m\u001b[38;5;124mBoolTensor\u001b[39m\u001b[38;5;124m\"\u001b[39m,\n\u001b[1;32m   (...)\u001b[0m\n\u001b[0;32m    148\u001b[0m     \u001b[38;5;124m\"\u001b[39m\u001b[38;5;124mvmap\u001b[39m\u001b[38;5;124m\"\u001b[39m,\n\u001b[0;32m    149\u001b[0m ]\n\u001b[0;32m    151\u001b[0m \u001b[38;5;66;03m# Please keep this list sorted\u001b[39;00m\n",
      "File \u001b[1;32m<frozen importlib._bootstrap>:1007\u001b[0m, in \u001b[0;36m_find_and_load\u001b[1;34m(name, import_)\u001b[0m\n",
      "File \u001b[1;32m<frozen importlib._bootstrap>:986\u001b[0m, in \u001b[0;36m_find_and_load_unlocked\u001b[1;34m(name, import_)\u001b[0m\n",
      "File \u001b[1;32m<frozen importlib._bootstrap>:680\u001b[0m, in \u001b[0;36m_load_unlocked\u001b[1;34m(spec)\u001b[0m\n",
      "File \u001b[1;32m<frozen importlib._bootstrap_external>:846\u001b[0m, in \u001b[0;36mexec_module\u001b[1;34m(self, module)\u001b[0m\n",
      "File \u001b[1;32m<frozen importlib._bootstrap_external>:941\u001b[0m, in \u001b[0;36mget_code\u001b[1;34m(self, fullname)\u001b[0m\n",
      "File \u001b[1;32m<frozen importlib._bootstrap_external>:1039\u001b[0m, in \u001b[0;36mget_data\u001b[1;34m(self, path)\u001b[0m\n",
      "\u001b[1;31mKeyboardInterrupt\u001b[0m: "
     ]
    }
   ],
   "source": [
    "import matplotlib.pyplot as plt\n",
    "import argparse\n",
    "import os\n",
    "os.environ['CUDA_VISIBLE_DEVICES'] = '0'\n",
    "import numpy as np\n",
    "from models import *\n",
    "import torch\n",
    "import torch.optim\n",
    "from skimage import io\n",
    "from skimage.metrics import structural_similarity as compare_ssim\n",
    "from skimage.metrics import peak_signal_noise_ratio as compare_psnr\n",
    "import cv2\n",
    "from utils.sr_utils import *\n",
    "from models.down_otf_nn import down_otf_nn\n",
    "from utils.get import get_AiryDisk as get_otf\n",
    "from utils.get import get_3d \n",
    "from utils.tv_loss import tv_loss\n",
    "torch.backends.cudnn.enabled = True\n",
    "torch.backends.cudnn.benchmark =True\n",
    "dtype = torch.cuda.FloatTensor\n",
    "\n",
    "imsize = -1 \n",
    "PLOT = True\n",
    "filename=r'E:\\DIP_shuju\\515/' #Image folder location\n",
    "save_path=filename+'7_1/'## Folder location for output\n",
    "os.makedirs(save_path, exist_ok=True)\n",
    "path_to_image1 = filename+'7.tif'## Low resolution image\n",
    "path_to_image2=path_to_image1 \n",
    "Multiple_pixel=1 ### Need to double the pixels?\n"
   ]
  },
  {
   "cell_type": "code",
   "execution_count": null,
   "metadata": {
    "ExecuteTime": {
     "end_time": "2025-04-22T12:31:36.038328Z",
     "start_time": "2025-04-22T12:31:36.007081Z"
    }
   },
   "outputs": [],
   "source": [
    "if torch.cuda.is_available():\n",
    "    dtype = torch.float\n",
    "    device = 'cuda' \n",
    "    torch.cuda.empty_cache()\n",
    "else:\n",
    "    dtype = torch.float\n",
    "    device = 'cpu'\n",
    "print(device)"
   ]
  },
  {
   "cell_type": "code",
   "execution_count": null,
   "metadata": {
    "ExecuteTime": {
     "end_time": "2025-04-22T12:31:36.116444Z",
     "start_time": "2025-04-22T12:31:36.038328Z"
    }
   },
   "outputs": [],
   "source": [
    "imgs = load_img(path_to_image1,path_to_image2 , imsize=-1)\n",
    "######\n",
    "## Microscope system parameter\n",
    "crop_img_size=imgs['HR_pil'].size[1]\n",
    "noise_gaussian = torch.randn(10,1000,1000)  \n",
    "noise_gaussian=noise_gaussian\n",
    "noise_gaussian=noise_gaussian.unsqueeze(0)\n",
    "noise_gaussian=noise_gaussian.type(dtype)\n",
    "####\n",
    "##########\n",
    "input_depth=10\n",
    "output_channels=1\n",
    "net = get_net(input_depth, 'skip', 'reflection',\n",
    "              output_channels=1,\n",
    "              skip_n33d=64, \n",
    "              skip_n33u=64, \n",
    "              skip_n11=4, \n",
    "              num_scales=5,\n",
    "              upsample_mode='bilinear').type(dtype)\n",
    "##########"
   ]
  },
  {
   "cell_type": "code",
   "execution_count": null,
   "metadata": {
    "ExecuteTime": {
     "end_time": "2025-04-22T12:31:36.241498Z",
     "start_time": "2025-04-22T12:31:36.116444Z"
    }
   },
   "outputs": [],
   "source": [
    "tv_w=0  #0.001\n",
    "temp_data=imgs['LR_np'][0,:,:]\n",
    "mse = torch.nn.MSELoss().type(dtype)\n",
    "mae=torch.nn.L1Loss().type(dtype)\n",
    "temp_data2=temp_data[None,:,:]\n",
    "img_LR_var = np_to_torch(temp_data2).type(dtype)\n",
    "net_input=noise_gaussian \n",
    "net=net.to(device) \n",
    "net_input=net_input.to(device) \n",
    "img_LR_var=img_LR_var.to(device) "
   ]
  },
  {
   "cell_type": "code",
   "execution_count": null,
   "metadata": {
    "ExecuteTime": {
     "end_time": "2025-04-22T12:31:36.257121Z",
     "start_time": "2025-04-22T12:31:36.241498Z"
    }
   },
   "outputs": [],
   "source": [
    "def Iteration():\n",
    "    global i,net_input\n",
    "    out_HR = net(net_input)\n",
    "    total_loss =mse(out_HR, img_LR_var)\n",
    "    TV_l=tv_w * tv_loss(out_HR)\n",
    "    total_loss += TV_l\n",
    "    total_loss.backward()\n",
    "    # Log\n",
    "    psnr_LR = compare_psnr(imgs['LR_np'], imgs['HR_np'])\n",
    "    ssim_LR=compare_ssim(imgs['HR_np'][0,:,:],imgs['LR_np'][0,:,:],data_range=65535)\n",
    "    psnr_value.append([psnr_LR])\n",
    "    print(f\"Epoch {i}, Loss: {total_loss.item()},TV_Loss: {TV_l.item()}\")\n",
    "    i += 1\n",
    "    if PLOT and i % 100 == 0:\n",
    "        out_HR_np = torch_to_np(out_HR)\n",
    "        out_HR_np1=out_HR_np\n",
    "        plot_image_grid([temp_data2, out_HR_np1], factor=13, nrow=2)\n",
    "\n",
    "    if PLOT and i % 10 == 0:\n",
    "        out_out = np.clip(torch_to_np(net(net_input)), 0, 1)\n",
    "       # print(np.max(np.max(out_out)))\n",
    "        out=out_out*65535/1\n",
    "        #out=out_out\n",
    "        out=out.astype('uint16')\n",
    "        if i>=10 and i<100:\n",
    "            io.imsave(save_path+'/sim_HR_iter'+'00'+str(i)+'.tif',out)\n",
    "        elif i>=100 and i<1000:\n",
    "            io.imsave(save_path+'/sim_HR_iter'+'0'+str(i)+'.tif',out)\n",
    "        elif i>=1000:\n",
    "            io.imsave(save_path+'/sim_HR_iter'+'0'+str(i)+'.tif',out)\n",
    "    return total_loss\n",
    "def get_params1(net):\n",
    "    params = []\n",
    "    params += [x for x in net.parameters()]\n",
    "    return params\n",
    "def opt(para_temp,Iteration, LR, num_iter):\n",
    "    optimizer = torch.optim.Adam(para_temp, lr=LR)\n",
    "    for j in range(num_iter):\n",
    "        optimizer.zero_grad()\n",
    "        Iteration()\n",
    "        optimizer.step()"
   ]
  },
  {
   "cell_type": "code",
   "execution_count": null,
   "metadata": {
    "ExecuteTime": {
     "end_time": "2025-04-22T12:35:46.441715Z",
     "start_time": "2025-04-22T12:31:36.257121Z"
    },
    "scrolled": true
   },
   "outputs": [],
   "source": [
    "psnr_value = [] \n",
    "net_input_saved = net_input.detach().clone()\n",
    "noise = net_input.detach().clone()\n",
    "num_iter = 2000\n",
    "i = 0\n",
    "\n",
    "LR=0.01\n",
    "opt(get_params1(net),Iteration, LR, num_iter)"
   ]
  }
 ],
 "metadata": {
  "kernelspec": {
   "display_name": "dip",
   "language": "python",
   "name": "python3"
  },
  "language_info": {
   "codemirror_mode": {
    "name": "ipython",
    "version": 3
   },
   "file_extension": ".py",
   "mimetype": "text/x-python",
   "name": "python",
   "nbconvert_exporter": "python",
   "pygments_lexer": "ipython3",
   "version": "3.9.21"
  }
 },
 "nbformat": 4,
 "nbformat_minor": 4
}
